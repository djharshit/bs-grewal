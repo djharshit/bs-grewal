{
 "cells": [
  {
   "cell_type": "markdown",
   "id": "a5f995a9-aeda-4c6f-b1f1-90e058ae1e09",
   "metadata": {},
   "source": [
    "# Statistics - bs grewal 25"
   ]
  },
  {
   "cell_type": "code",
   "execution_count": 1,
   "id": "5a1ea655-9763-4a34-a2d7-fb091bb69250",
   "metadata": {},
   "outputs": [],
   "source": [
    "import pandas as pd\n",
    "import numpy as np\n",
    "import matplotlib.pyplot as plt\n",
    "import scipy.stats as ss\n",
    "import statistics as st"
   ]
  },
  {
   "cell_type": "markdown",
   "id": "ac660903-53c4-4d3c-8a1f-23c6e529f43b",
   "metadata": {
    "jp-MarkdownHeadingCollapsed": true,
    "tags": []
   },
   "source": [
    "### Central tendency"
   ]
  },
  {
   "cell_type": "code",
   "execution_count": 10,
   "id": "b58742bf-e33c-4885-9343-1b2cc0eb82e4",
   "metadata": {},
   "outputs": [],
   "source": [
    "a = np.arange(, 42, 2)\n",
    "b = np.array([3,6,10,15,24,42,75,90,79,55,36,26,19,13,9,7])"
   ]
  },
  {
   "cell_type": "code",
   "execution_count": 11,
   "id": "4802cc93-cdd4-4ac9-b2f8-ccb64fdc4f60",
   "metadata": {},
   "outputs": [
    {
     "data": {
      "text/plain": [
       "26.159135559921413"
      ]
     },
     "execution_count": 11,
     "metadata": {},
     "output_type": "execute_result"
    }
   ],
   "source": [
    "np.sum(a * b) / 509"
   ]
  },
  {
   "cell_type": "code",
   "execution_count": 9,
   "id": "f08a8e5b-4c17-411b-8daf-cd1f43b082c4",
   "metadata": {},
   "outputs": [
    {
     "data": {
      "text/plain": [
       "509"
      ]
     },
     "execution_count": 9,
     "metadata": {},
     "output_type": "execute_result"
    }
   ],
   "source": [
    "b.sum()"
   ]
  },
  {
   "cell_type": "code",
   "execution_count": 30,
   "id": "1efa7142-dede-473a-9992-b34a53caa9ac",
   "metadata": {},
   "outputs": [
    {
     "name": "stdout",
     "output_type": "stream",
     "text": [
      "49.5\n",
      "149.5\n",
      "249.5\n",
      "349.5\n",
      "449.5\n",
      "549.5\n",
      "649.5\n",
      "749.5\n",
      "350.875\n"
     ]
    }
   ],
   "source": [
    "x = 49.5\n",
    "s = 0\n",
    "for i in [10,54,184,264,246,40,1,1]:\n",
    "    print(x)\n",
    "    s += i*x\n",
    "    x += 100\n",
    "print(s/800)"
   ]
  },
  {
   "cell_type": "code",
   "execution_count": 82,
   "id": "d7204790-5761-4c75-b42b-dc3a6b5eb81a",
   "metadata": {},
   "outputs": [],
   "source": [
    "c = []\n",
    "n = 22.5\n",
    "for i in range(10):\n",
    "    c.append(n)\n",
    "    n += 5\n",
    "c = np.array(c)"
   ]
  },
  {
   "cell_type": "code",
   "execution_count": 58,
   "id": "ea5c58fe-1e8c-4578-93ba-3e10b6c454f0",
   "metadata": {},
   "outputs": [
    {
     "data": {
      "text/plain": [
       "array([ 5, 15, 25, 35, 45, 55])"
      ]
     },
     "execution_count": 58,
     "metadata": {},
     "output_type": "execute_result"
    }
   ],
   "source": [
    "c = np.arange(5,60,10)\n",
    "c"
   ]
  },
  {
   "cell_type": "code",
   "execution_count": 18,
   "id": "e1eaa1a8-cc61-43aa-b574-250e0c00446e",
   "metadata": {},
   "outputs": [],
   "source": [
    "d = np.array([30,44,66,62,60,34,80,46,20,38])"
   ]
  },
  {
   "cell_type": "code",
   "execution_count": 41,
   "id": "99ad3319-02ea-49a1-8d97-1cca666042b7",
   "metadata": {},
   "outputs": [],
   "source": [
    "e = np.array([12,18,35,42,50,45,20,8])"
   ]
  },
  {
   "cell_type": "code",
   "execution_count": 25,
   "id": "9d821da9-1131-410a-a34e-bbe9d9ad5754",
   "metadata": {},
   "outputs": [
    {
     "data": {
      "text/plain": [
       "36.75179511866658"
      ]
     },
     "execution_count": 25,
     "metadata": {},
     "output_type": "execute_result"
    }
   ],
   "source": [
    "np.std(d) / np.mean(d) * 100"
   ]
  },
  {
   "cell_type": "code",
   "execution_count": 23,
   "id": "6eb0ad54-4a24-4c81-b59e-d592947dbd19",
   "metadata": {},
   "outputs": [
    {
     "data": {
      "text/plain": [
       "48.0"
      ]
     },
     "execution_count": 23,
     "metadata": {},
     "output_type": "execute_result"
    }
   ],
   "source": [
    "np.mean(d)"
   ]
  },
  {
   "cell_type": "code",
   "execution_count": 84,
   "id": "550ebdda-2048-4929-a039-e1a071406a8d",
   "metadata": {},
   "outputs": [
    {
     "data": {
      "text/plain": [
       "199"
      ]
     },
     "execution_count": 84,
     "metadata": {},
     "output_type": "execute_result"
    }
   ],
   "source": [
    "d.sum()"
   ]
  },
  {
   "cell_type": "code",
   "execution_count": 39,
   "id": "5a2d69f3-3b06-4d57-99c6-0d6d8e8a9303",
   "metadata": {},
   "outputs": [
    {
     "data": {
      "text/plain": [
       "51.733333333333334"
      ]
     },
     "execution_count": 39,
     "metadata": {},
     "output_type": "execute_result"
    }
   ],
   "source": [
    "(90*200+52*250+300*26)/750"
   ]
  },
  {
   "cell_type": "code",
   "execution_count": 40,
   "id": "88a34e61-9379-4af2-9dd0-b77d3d834840",
   "metadata": {},
   "outputs": [
    {
     "data": {
      "text/plain": [
       "7.192588778272628"
      ]
     },
     "execution_count": 40,
     "metadata": {},
     "output_type": "execute_result"
    }
   ],
   "source": [
    "51.733333333333334**0.5"
   ]
  },
  {
   "cell_type": "code",
   "execution_count": 80,
   "id": "f6b10bda-50ab-4572-a295-a43f4f7ccb90",
   "metadata": {},
   "outputs": [
    {
     "data": {
      "text/plain": [
       "192.0"
      ]
     },
     "execution_count": 80,
     "metadata": {},
     "output_type": "execute_result"
    }
   ],
   "source": [
    "st.harmonic_mean([100,200,300,400])"
   ]
  },
  {
   "cell_type": "code",
   "execution_count": 160,
   "id": "368194f7-19ab-4d63-8b5b-3c87a79c1c67",
   "metadata": {},
   "outputs": [
    {
     "data": {
      "text/plain": [
       "array([ 12, 115,   6,  73,   7,  19, 119,  36,  84,  29])"
      ]
     },
     "execution_count": 160,
     "metadata": {},
     "output_type": "execute_result"
    }
   ],
   "source": [
    "d"
   ]
  },
  {
   "cell_type": "code",
   "execution_count": 170,
   "id": "6166c96f-9411-477a-8f1d-032509617a62",
   "metadata": {},
   "outputs": [
    {
     "data": {
      "text/plain": [
       "0.9937169468962805"
      ]
     },
     "execution_count": 170,
     "metadata": {},
     "output_type": "execute_result"
    }
   ],
   "source": [
    "np.std(a)"
   ]
  },
  {
   "cell_type": "code",
   "execution_count": 135,
   "id": "a1c89b3d-7272-48e8-b660-7636b455aeb5",
   "metadata": {},
   "outputs": [],
   "source": [
    "q1, q3 = np.percentile(a,q=[25,75])"
   ]
  },
  {
   "cell_type": "code",
   "execution_count": 136,
   "id": "081ecf8f-34d8-4a8c-88db-b5aebfb80462",
   "metadata": {},
   "outputs": [
    {
     "data": {
      "text/plain": [
       "1.35876072384257"
      ]
     },
     "execution_count": 136,
     "metadata": {},
     "output_type": "execute_result"
    }
   ],
   "source": [
    "(q3 - q1) / np.std(a)"
   ]
  },
  {
   "cell_type": "code",
   "execution_count": 137,
   "id": "2b3f9a5b-8822-478c-8e2c-94cc1e787674",
   "metadata": {},
   "outputs": [
    {
     "data": {
      "text/plain": [
       "0.0003554536327150782"
      ]
     },
     "execution_count": 137,
     "metadata": {},
     "output_type": "execute_result"
    }
   ],
   "source": [
    "np.mean(a)"
   ]
  },
  {
   "cell_type": "code",
   "execution_count": 133,
   "id": "db54ab00-bc1e-489e-bcc4-bc0db1987448",
   "metadata": {},
   "outputs": [],
   "source": [
    "a = np.random.randn(10000)"
   ]
  },
  {
   "cell_type": "code",
   "execution_count": 112,
   "id": "8294bc19-9459-4f82-a707-55e2a0a286f3",
   "metadata": {},
   "outputs": [
    {
     "data": {
      "text/plain": [
       "array([ 1.05108459,  0.32281189,  0.19876583, -1.45258586, -0.63469163,\n",
       "        0.06282945,  0.69148668, -0.2445618 , -1.00766207,  0.60284088])"
      ]
     },
     "execution_count": 112,
     "metadata": {},
     "output_type": "execute_result"
    }
   ],
   "source": [
    "a"
   ]
  },
  {
   "cell_type": "code",
   "execution_count": 145,
   "id": "47282714-ffe6-4718-b9b6-7c92e8514108",
   "metadata": {},
   "outputs": [
    {
     "data": {
      "text/plain": [
       "509"
      ]
     },
     "execution_count": 145,
     "metadata": {},
     "output_type": "execute_result"
    }
   ],
   "source": [
    "16*4+9*24+4*21+18+3+20+72+32"
   ]
  },
  {
   "cell_type": "code",
   "execution_count": 149,
   "id": "0f2a3d2e-9229-46c0-a5f8-fbfa4a1df3c9",
   "metadata": {},
   "outputs": [
    {
     "data": {
      "text/plain": [
       "1.3097530864197529"
      ]
     },
     "execution_count": 149,
     "metadata": {},
     "output_type": "execute_result"
    }
   ],
   "source": [
    "c "
   ]
  },
  {
   "cell_type": "code",
   "execution_count": 152,
   "id": "b6bc1816-9f14-412e-acae-29eecafdab6d",
   "metadata": {},
   "outputs": [
    {
     "data": {
      "text/plain": [
       "278.1313580246914"
      ]
     },
     "execution_count": 152,
     "metadata": {},
     "output_type": "execute_result"
    }
   ],
   "source": [
    "(509/90 - (103/90)**2) * 64"
   ]
  },
  {
   "cell_type": "code",
   "execution_count": 172,
   "id": "4f4f7b08-1654-453e-8bc4-74d1d5c9f482",
   "metadata": {},
   "outputs": [
    {
     "data": {
      "text/plain": [
       "27.0"
      ]
     },
     "execution_count": 172,
     "metadata": {},
     "output_type": "execute_result"
    }
   ],
   "source": [
    "np.mean(d)"
   ]
  },
  {
   "cell_type": "code",
   "execution_count": 164,
   "id": "80cb85b6-b9d8-44e6-bf2c-430b05effb63",
   "metadata": {},
   "outputs": [
    {
     "data": {
      "text/plain": [
       "412.43999999999994"
      ]
     },
     "execution_count": 164,
     "metadata": {},
     "output_type": "execute_result"
    }
   ],
   "source": [
    "np.sum(d**2)/10 - 645.16"
   ]
  },
  {
   "cell_type": "code",
   "execution_count": 165,
   "id": "b45f612e-f103-47ee-958e-44005e38d36d",
   "metadata": {},
   "outputs": [
    {
     "data": {
      "text/plain": [
       "20.30861885998159"
      ]
     },
     "execution_count": 165,
     "metadata": {},
     "output_type": "execute_result"
    }
   ],
   "source": [
    "412.43999999999994 ** 0.5"
   ]
  },
  {
   "cell_type": "code",
   "execution_count": 163,
   "id": "a19f804b-274d-40fc-a6f5-9fa44c7aefd7",
   "metadata": {},
   "outputs": [
    {
     "data": {
      "text/plain": [
       "645.16"
      ]
     },
     "execution_count": 163,
     "metadata": {},
     "output_type": "execute_result"
    }
   ],
   "source": [
    "25.4**2"
   ]
  },
  {
   "cell_type": "code",
   "execution_count": 173,
   "id": "cd003286-c03c-4d45-997a-368d4d7fb77c",
   "metadata": {},
   "outputs": [
    {
     "data": {
      "text/plain": [
       "69.7037037037037"
      ]
     },
     "execution_count": 173,
     "metadata": {},
     "output_type": "execute_result"
    }
   ],
   "source": [
    "18.82/27*100"
   ]
  },
  {
   "cell_type": "markdown",
   "id": "2ffd35c6-037c-472c-9473-72e3b76a26cc",
   "metadata": {
    "jp-MarkdownHeadingCollapsed": true,
    "tags": []
   },
   "source": [
    "### Dispersion"
   ]
  },
  {
   "cell_type": "code",
   "execution_count": 174,
   "id": "54b3bed8-9b5b-4d3d-a715-729f3c219d4a",
   "metadata": {},
   "outputs": [],
   "source": [
    "x = np.array([4.8,4.2,5.1,3.8,4.4,4.7,4.1,4.5])"
   ]
  },
  {
   "cell_type": "code",
   "execution_count": 177,
   "id": "4cf5603d-9250-47fd-a919-e8a8c4703cc5",
   "metadata": {},
   "outputs": [
    {
     "data": {
      "text/plain": [
       "4.45"
      ]
     },
     "execution_count": 177,
     "metadata": {},
     "output_type": "execute_result"
    }
   ],
   "source": [
    "np.mean(x)"
   ]
  },
  {
   "cell_type": "code",
   "execution_count": 178,
   "id": "06b97593-4dfa-4b4c-ab1d-2d1b9ca6407d",
   "metadata": {},
   "outputs": [
    {
     "data": {
      "text/plain": [
       "0.3905124837953327"
      ]
     },
     "execution_count": 178,
     "metadata": {},
     "output_type": "execute_result"
    }
   ],
   "source": [
    "np.std(x)"
   ]
  },
  {
   "cell_type": "code",
   "execution_count": 130,
   "id": "becd7e62-be0b-40e9-8229-805c6c58b553",
   "metadata": {},
   "outputs": [],
   "source": [
    "b = []"
   ]
  },
  {
   "cell_type": "code",
   "execution_count": 131,
   "id": "9ec17db9-e237-4c1e-bf2e-9f7fd3bea2c6",
   "metadata": {},
   "outputs": [],
   "source": [
    "l = []\n",
    "s = 0\n",
    "for i, j in zip([25,55,85], [5,80,15]):\n",
    "    l += [i]*j\n",
    "b += l"
   ]
  },
  {
   "cell_type": "code",
   "execution_count": 132,
   "id": "2397db80-1311-4ee0-b16e-f65493b68da0",
   "metadata": {},
   "outputs": [
    {
     "data": {
      "text/plain": [
       "100"
      ]
     },
     "execution_count": 132,
     "metadata": {},
     "output_type": "execute_result"
    }
   ],
   "source": [
    "len(b)"
   ]
  },
  {
   "cell_type": "code",
   "execution_count": 136,
   "id": "4ca2f236-9195-4352-9a3d-6760e18a3680",
   "metadata": {},
   "outputs": [],
   "source": [
    "b = np.array(b)"
   ]
  },
  {
   "cell_type": "code",
   "execution_count": 137,
   "id": "711b8b2a-5d98-4179-9d90-132de8f213e4",
   "metadata": {},
   "outputs": [
    {
     "data": {
      "text/plain": [
       "array([25, 25, 25, 25, 25, 55, 55, 55, 55, 55, 55, 55, 55, 55, 55, 55, 55,\n",
       "       55, 55, 55, 55, 55, 55, 55, 55, 55, 55, 55, 55, 55, 55, 55, 55, 55,\n",
       "       55, 55, 55, 55, 55, 55, 55, 55, 55, 55, 55, 55, 55, 55, 55, 55, 55,\n",
       "       55, 55, 55, 55, 55, 55, 55, 55, 55, 55, 55, 55, 55, 55, 55, 55, 55,\n",
       "       55, 55, 55, 55, 55, 55, 55, 55, 55, 55, 55, 55, 55, 55, 55, 55, 55,\n",
       "       85, 85, 85, 85, 85, 85, 85, 85, 85, 85, 85, 85, 85, 85, 85])"
      ]
     },
     "execution_count": 137,
     "metadata": {},
     "output_type": "execute_result"
    }
   ],
   "source": [
    "b"
   ]
  },
  {
   "cell_type": "code",
   "execution_count": 21,
   "id": "71135c3d-a725-4cb0-9f52-387656f59e4a",
   "metadata": {},
   "outputs": [
    {
     "data": {
      "text/plain": [
       "(15.0, 15.0, 20.0)"
      ]
     },
     "execution_count": 21,
     "metadata": {},
     "output_type": "execute_result"
    }
   ],
   "source": [
    "q1, q2, q3 = np.percentile(l,q=[25,50,75])\n",
    "q1, q2, q3"
   ]
  },
  {
   "cell_type": "code",
   "execution_count": 17,
   "id": "03437972-abb9-4c11-bc39-4e3a5ee43d65",
   "metadata": {},
   "outputs": [
    {
     "data": {
      "text/plain": [
       "17.116074316267735"
      ]
     },
     "execution_count": 17,
     "metadata": {},
     "output_type": "execute_result"
    }
   ],
   "source": [
    "np.std(l) #/ np.mean(l)"
   ]
  },
  {
   "cell_type": "code",
   "execution_count": 16,
   "id": "1e7ef60f-e8c1-46ac-85ed-f070e1b435e2",
   "metadata": {},
   "outputs": [
    {
     "data": {
      "text/plain": [
       "49.8"
      ]
     },
     "execution_count": 16,
     "metadata": {},
     "output_type": "execute_result"
    }
   ],
   "source": [
    "np.mean(l)"
   ]
  },
  {
   "cell_type": "code",
   "execution_count": 69,
   "id": "d09b285e-b632-4da3-b6c0-75c21cc2c01e",
   "metadata": {},
   "outputs": [
    {
     "data": {
      "text/plain": [
       "20.0"
      ]
     },
     "execution_count": 69,
     "metadata": {},
     "output_type": "execute_result"
    }
   ],
   "source": [
    "st.mode(l)"
   ]
  },
  {
   "cell_type": "code",
   "execution_count": 89,
   "id": "99af582d-900e-4c81-b7e1-bbefeca54b4f",
   "metadata": {},
   "outputs": [],
   "source": [
    "def mode(l):\n",
    "    vals, counts = np.unique(l, return_counts=True)\n",
    "    index = np.argmax(counts)\n",
    "    return vals[index]"
   ]
  },
  {
   "cell_type": "code",
   "execution_count": 79,
   "id": "c125ee1f-41ca-42c9-9b7a-26e3e7bd748c",
   "metadata": {},
   "outputs": [
    {
     "data": {
      "text/plain": [
       "-0.9114239463878236"
      ]
     },
     "execution_count": 79,
     "metadata": {},
     "output_type": "execute_result"
    }
   ],
   "source": [
    "3*(np.mean(l) - np.median(l)) / np.std(l)"
   ]
  },
  {
   "cell_type": "code",
   "execution_count": 82,
   "id": "cae3fdbc-954b-4a1d-a685-10b9a8d0d201",
   "metadata": {},
   "outputs": [
    {
     "data": {
      "text/plain": [
       "-0.9114239463878236"
      ]
     },
     "execution_count": 82,
     "metadata": {},
     "output_type": "execute_result"
    }
   ],
   "source": [
    "3*(np.mean(l) - np.median(l)) / np.std(l)"
   ]
  },
  {
   "cell_type": "markdown",
   "id": "0b9fff2c-46ac-4257-a5e7-225c9d38bf60",
   "metadata": {
    "jp-MarkdownHeadingCollapsed": true,
    "tags": []
   },
   "source": [
    "### Skewness"
   ]
  },
  {
   "cell_type": "code",
   "execution_count": 26,
   "id": "f9f55128-c240-4af3-a0f4-cfd58fb54119",
   "metadata": {},
   "outputs": [
    {
     "name": "stdout",
     "output_type": "stream",
     "text": [
      "229.82582400000013\n"
     ]
    }
   ],
   "source": [
    "s = 0\n",
    "m = 17.08\n",
    "for i, j in zip(range(5, 41, 5), [2,108,580,175,80,32,18,5]):\n",
    "    s += j*(i-m)**3\n",
    "print(s/1000)"
   ]
  },
  {
   "cell_type": "code",
   "execution_count": 28,
   "id": "9bc11d27-8042-42b3-b308-b4003d80243a",
   "metadata": {},
   "outputs": [
    {
     "data": {
      "text/plain": [
       "1.5126388703200742"
      ]
     },
     "execution_count": 28,
     "metadata": {},
     "output_type": "execute_result"
    }
   ],
   "source": [
    "np.sqrt(2.28807635200319)"
   ]
  },
  {
   "cell_type": "code",
   "execution_count": 22,
   "id": "da39394a-0849-4408-bb8a-8ef1416ad1ce",
   "metadata": {},
   "outputs": [
    {
     "data": {
      "text/plain": [
       "1.0"
      ]
     },
     "execution_count": 22,
     "metadata": {},
     "output_type": "execute_result"
    }
   ],
   "source": [
    "(q3 + q1 - 2*q2) / (q3 - q1)"
   ]
  },
  {
   "cell_type": "code",
   "execution_count": 27,
   "id": "dba1e006-6196-41bd-99bd-6bfeb96a260d",
   "metadata": {},
   "outputs": [
    {
     "data": {
      "text/plain": [
       "2.28807635200319"
      ]
     },
     "execution_count": 27,
     "metadata": {},
     "output_type": "execute_result"
    }
   ],
   "source": [
    "229.82582400000013**2 / 28.473599999999998**3"
   ]
  },
  {
   "cell_type": "markdown",
   "id": "4ceb14e7-b889-42b7-a237-1cd80116621d",
   "metadata": {
    "jp-MarkdownHeadingCollapsed": true,
    "tags": []
   },
   "source": [
    "### Bivariate Analysis"
   ]
  },
  {
   "cell_type": "code",
   "execution_count": 30,
   "id": "df0afefe-c1bc-4fef-8816-66d6be8f320c",
   "metadata": {},
   "outputs": [],
   "source": [
    "a = np.array([1, 1, 1, 2, 2, 2, 3, 3, 3, 3, 3, 4, 4, 5, 5, 6, 6, 6, 7, 8])\n",
    "b = np.array([75, 66, 68, 74, 78, 72, 85, 82, 90, 82, 80, 88, 85, 90, 92, 94, 94, 88, 91, 96])"
   ]
  },
  {
   "cell_type": "code",
   "execution_count": 42,
   "id": "a0eb922a-3a54-4e32-8a67-79467c760934",
   "metadata": {},
   "outputs": [
    {
     "data": {
      "text/plain": [
       "array([23.375, 48.125, 42.625, 16.625,  9.625, 20.125, -1.125,  1.125,\n",
       "       -4.875,  1.125,  2.625,  1.125,  0.375,  8.125, 10.625, 23.625,\n",
       "       23.625, 10.125, 24.375, 53.125])"
      ]
     },
     "execution_count": 42,
     "metadata": {},
     "output_type": "execute_result"
    }
   ],
   "source": [
    "(a - np.mean(a)) * (b - np.mean(b))"
   ]
  },
  {
   "cell_type": "code",
   "execution_count": 43,
   "id": "b37060db-1d02-487c-8087-73ad2def388d",
   "metadata": {},
   "outputs": [
    {
     "data": {
      "text/plain": [
       "314.5"
      ]
     },
     "execution_count": 43,
     "metadata": {},
     "output_type": "execute_result"
    }
   ],
   "source": [
    "np.sum([23.375, 48.125, 42.625, 16.625,  9.625, 20.125, -1.125,  1.125,\n",
    "       -4.875,  1.125,  2.625,  1.125,  0.375,  8.125, 10.625, 23.625,\n",
    "       23.625, 10.125, 24.375, 53.125])"
   ]
  },
  {
   "cell_type": "code",
   "execution_count": 44,
   "id": "7852c6d1-8e0e-4412-be5f-d90493e41cbf",
   "metadata": {},
   "outputs": [
    {
     "data": {
      "text/plain": [
       "(2.021756661915573, 8.72639673633969)"
      ]
     },
     "execution_count": 44,
     "metadata": {},
     "output_type": "execute_result"
    }
   ],
   "source": [
    "a.std(), b.std()"
   ]
  },
  {
   "cell_type": "code",
   "execution_count": 45,
   "id": "c19ef04c-559a-4f68-8d92-605f4db023be",
   "metadata": {},
   "outputs": [
    {
     "data": {
      "text/plain": [
       "0.891309599101011"
      ]
     },
     "execution_count": 45,
     "metadata": {},
     "output_type": "execute_result"
    }
   ],
   "source": [
    "314.5 / (20*2.02175*8.72639)"
   ]
  },
  {
   "cell_type": "code",
   "execution_count": 2,
   "id": "4e13489b-0bb4-491f-80c3-869b9872799d",
   "metadata": {},
   "outputs": [],
   "source": [
    "df = pd.DataFrame({'a':[105,104,102,101,100,99,98,96,93,92], 'b':[101,103,100,98,95,96,104,92,97,94]})"
   ]
  },
  {
   "cell_type": "code",
   "execution_count": 3,
   "id": "c978b55a-0b4f-4618-9524-0d49a6c3c9fc",
   "metadata": {},
   "outputs": [
    {
     "data": {
      "text/html": [
       "<div>\n",
       "<style scoped>\n",
       "    .dataframe tbody tr th:only-of-type {\n",
       "        vertical-align: middle;\n",
       "    }\n",
       "\n",
       "    .dataframe tbody tr th {\n",
       "        vertical-align: top;\n",
       "    }\n",
       "\n",
       "    .dataframe thead th {\n",
       "        text-align: right;\n",
       "    }\n",
       "</style>\n",
       "<table border=\"1\" class=\"dataframe\">\n",
       "  <thead>\n",
       "    <tr style=\"text-align: right;\">\n",
       "      <th></th>\n",
       "      <th>a</th>\n",
       "      <th>b</th>\n",
       "    </tr>\n",
       "  </thead>\n",
       "  <tbody>\n",
       "    <tr>\n",
       "      <th>a</th>\n",
       "      <td>1.000000</td>\n",
       "      <td>0.596347</td>\n",
       "    </tr>\n",
       "    <tr>\n",
       "      <th>b</th>\n",
       "      <td>0.596347</td>\n",
       "      <td>1.000000</td>\n",
       "    </tr>\n",
       "  </tbody>\n",
       "</table>\n",
       "</div>"
      ],
      "text/plain": [
       "          a         b\n",
       "a  1.000000  0.596347\n",
       "b  0.596347  1.000000"
      ]
     },
     "execution_count": 3,
     "metadata": {},
     "output_type": "execute_result"
    }
   ],
   "source": [
    "df.corr()"
   ]
  },
  {
   "cell_type": "markdown",
   "id": "e8e99554-ae7b-42b5-86e1-4a2fa9470e5c",
   "metadata": {
    "jp-MarkdownHeadingCollapsed": true,
    "tags": []
   },
   "source": [
    "### Correlation"
   ]
  },
  {
   "cell_type": "code",
   "execution_count": 18,
   "id": "7a4e75e6-8c9d-4673-8785-9ff5fc0e1f93",
   "metadata": {},
   "outputs": [],
   "source": [
    "a = np.array([11,17,19,14,8,15,20,6,8,12])\n",
    "b = np.array([147,125,160,118,149,128,150,145,115,140,152,155])\n",
    "c = np.array([6,4,9,8,1,2,3,10,5,7])"
   ]
  },
  {
   "cell_type": "code",
   "execution_count": 8,
   "id": "8e05391e-2fce-41d1-8d3a-fd2ef15ece33",
   "metadata": {},
   "outputs": [
    {
     "data": {
      "text/plain": [
       "0.7026516450800809"
      ]
     },
     "execution_count": 8,
     "metadata": {},
     "output_type": "execute_result"
    }
   ],
   "source": [
    "# Correlation coefficient, r\n",
    "np.sum((a - np.mean(a)) * (b - np.mean(b))) / (a.size * np.std(a) * np.std(b))"
   ]
  },
  {
   "cell_type": "code",
   "execution_count": 9,
   "id": "e458935e-4ec0-4b2a-aefb-492da935c5a1",
   "metadata": {},
   "outputs": [
    {
     "data": {
      "text/plain": [
       "array([[1.        , 0.70265165],\n",
       "       [0.70265165, 1.        ]])"
      ]
     },
     "execution_count": 9,
     "metadata": {},
     "output_type": "execute_result"
    }
   ],
   "source": [
    "np.corrcoef(a,b)"
   ]
  },
  {
   "cell_type": "code",
   "execution_count": 13,
   "id": "95d6581f-9135-41ae-94d6-01cd63e601f0",
   "metadata": {},
   "outputs": [
    {
     "data": {
      "text/plain": [
       "1.2813650242843828"
      ]
     },
     "execution_count": 13,
     "metadata": {},
     "output_type": "execute_result"
    }
   ],
   "source": [
    "see(a, b)"
   ]
  },
  {
   "cell_type": "code",
   "execution_count": 17,
   "id": "01eb9cf0-b243-43c1-b698-5e0a8b3fe02f",
   "metadata": {},
   "outputs": [
    {
     "data": {
      "text/plain": [
       "SpearmanrResult(correlation=0.9317002028900007, pvalue=1.042935932941301e-05)"
      ]
     },
     "execution_count": 17,
     "metadata": {},
     "output_type": "execute_result"
    }
   ],
   "source": [
    "ss.spearmanr(a,b)"
   ]
  },
  {
   "cell_type": "code",
   "execution_count": 19,
   "id": "f3e07414-e73d-4a06-8964-0315e3e7de75",
   "metadata": {},
   "outputs": [
    {
     "data": {
      "text/plain": [
       "(13.827508813954884, 14.435681102354987)"
      ]
     },
     "execution_count": 19,
     "metadata": {},
     "output_type": "execute_result"
    }
   ],
   "source": [
    "a.std(), b.std()"
   ]
  },
  {
   "cell_type": "code",
   "execution_count": 23,
   "id": "af3997b2-f157-40f2-8186-c3751a97d9b3",
   "metadata": {},
   "outputs": [
    {
     "data": {
      "text/plain": [
       "11.60172400981854"
      ]
     },
     "execution_count": 23,
     "metadata": {},
     "output_type": "execute_result"
    }
   ],
   "source": [
    "np.std(a-b)"
   ]
  },
  {
   "cell_type": "code",
   "execution_count": 146,
   "id": "b311df80-cba6-4349-abe7-dce5ad353f86",
   "metadata": {},
   "outputs": [
    {
     "data": {
      "text/plain": [
       "0.5083042452524147"
      ]
     },
     "execution_count": 146,
     "metadata": {},
     "output_type": "execute_result"
    }
   ],
   "source": [
    "stda, stdb, stdab = a.std(), b.std(), np.std(a-b)\n",
    "\n",
    "(stda**2 + stdb**2 - stdab**2) / (2*stda*stdb)"
   ]
  },
  {
   "cell_type": "code",
   "execution_count": 5,
   "id": "45bb96df-02b1-4d59-9451-8d1b2e9a3fc4",
   "metadata": {},
   "outputs": [
    {
     "data": {
      "text/plain": [
       "1.2813650242843824"
      ]
     },
     "execution_count": 5,
     "metadata": {},
     "output_type": "execute_result"
    }
   ],
   "source": [
    "np.sqrt(1 - 0.7026516450800809**2) * np.std(a)"
   ]
  },
  {
   "cell_type": "code",
   "execution_count": 148,
   "id": "c49e0804-1da9-496e-ae29-194accd7114c",
   "metadata": {},
   "outputs": [
    {
     "data": {
      "text/plain": [
       "1146.3611996225272"
      ]
     },
     "execution_count": 148,
     "metadata": {},
     "output_type": "execute_result"
    }
   ],
   "source": [
    "((18*60-12*12)*(18*96-18*18))**0.5"
   ]
  },
  {
   "cell_type": "code",
   "execution_count": 149,
   "id": "eb4bdfc3-dd2a-46a8-a3e4-4b15c1985749",
   "metadata": {},
   "outputs": [
    {
     "data": {
      "text/plain": [
       "0.565266863719195"
      ]
     },
     "execution_count": 149,
     "metadata": {},
     "output_type": "execute_result"
    }
   ],
   "source": [
    "(18*48-12*18) / (1146.3611996225272)"
   ]
  },
  {
   "cell_type": "code",
   "execution_count": 12,
   "id": "48f8e1e9-e329-4dfb-b034-48fb77bb95bd",
   "metadata": {},
   "outputs": [],
   "source": [
    "df = pd.read_excel('temp.xlsx', index_col=0) #, encoding='unicode_escape')"
   ]
  },
  {
   "cell_type": "code",
   "execution_count": 14,
   "id": "12ae17bd-3fbf-46d8-996f-669de0542364",
   "metadata": {},
   "outputs": [
    {
     "data": {
      "text/html": [
       "<div>\n",
       "<style scoped>\n",
       "    .dataframe tbody tr th:only-of-type {\n",
       "        vertical-align: middle;\n",
       "    }\n",
       "\n",
       "    .dataframe tbody tr th {\n",
       "        vertical-align: top;\n",
       "    }\n",
       "\n",
       "    .dataframe thead th {\n",
       "        text-align: right;\n",
       "    }\n",
       "</style>\n",
       "<table border=\"1\" class=\"dataframe\">\n",
       "  <thead>\n",
       "    <tr style=\"text-align: right;\">\n",
       "      <th></th>\n",
       "      <th>20</th>\n",
       "      <th>30</th>\n",
       "      <th>40</th>\n",
       "      <th>50</th>\n",
       "      <th>60</th>\n",
       "      <th>70</th>\n",
       "    </tr>\n",
       "  </thead>\n",
       "  <tbody>\n",
       "    <tr>\n",
       "      <th>20</th>\n",
       "      <td>1.0</td>\n",
       "      <td>1.0</td>\n",
       "      <td>NaN</td>\n",
       "      <td>NaN</td>\n",
       "      <td>NaN</td>\n",
       "      <td>NaN</td>\n",
       "    </tr>\n",
       "    <tr>\n",
       "      <th>30</th>\n",
       "      <td>1.0</td>\n",
       "      <td>1.0</td>\n",
       "      <td>-1.0</td>\n",
       "      <td>NaN</td>\n",
       "      <td>NaN</td>\n",
       "      <td>NaN</td>\n",
       "    </tr>\n",
       "    <tr>\n",
       "      <th>40</th>\n",
       "      <td>NaN</td>\n",
       "      <td>-1.0</td>\n",
       "      <td>1.0</td>\n",
       "      <td>-1.0</td>\n",
       "      <td>NaN</td>\n",
       "      <td>NaN</td>\n",
       "    </tr>\n",
       "    <tr>\n",
       "      <th>50</th>\n",
       "      <td>NaN</td>\n",
       "      <td>NaN</td>\n",
       "      <td>-1.0</td>\n",
       "      <td>1.0</td>\n",
       "      <td>-1.0</td>\n",
       "      <td>NaN</td>\n",
       "    </tr>\n",
       "    <tr>\n",
       "      <th>60</th>\n",
       "      <td>NaN</td>\n",
       "      <td>NaN</td>\n",
       "      <td>NaN</td>\n",
       "      <td>-1.0</td>\n",
       "      <td>1.0</td>\n",
       "      <td>NaN</td>\n",
       "    </tr>\n",
       "    <tr>\n",
       "      <th>70</th>\n",
       "      <td>NaN</td>\n",
       "      <td>NaN</td>\n",
       "      <td>NaN</td>\n",
       "      <td>NaN</td>\n",
       "      <td>NaN</td>\n",
       "      <td>NaN</td>\n",
       "    </tr>\n",
       "  </tbody>\n",
       "</table>\n",
       "</div>"
      ],
      "text/plain": [
       "     20   30   40   50   60  70\n",
       "20  1.0  1.0  NaN  NaN  NaN NaN\n",
       "30  1.0  1.0 -1.0  NaN  NaN NaN\n",
       "40  NaN -1.0  1.0 -1.0  NaN NaN\n",
       "50  NaN  NaN -1.0  1.0 -1.0 NaN\n",
       "60  NaN  NaN  NaN -1.0  1.0 NaN\n",
       "70  NaN  NaN  NaN  NaN  NaN NaN"
      ]
     },
     "execution_count": 14,
     "metadata": {},
     "output_type": "execute_result"
    }
   ],
   "source": [
    "df.corr()"
   ]
  },
  {
   "cell_type": "code",
   "execution_count": 11,
   "id": "c417d884-5e1d-46e8-8fd8-0b7cc17e2f02",
   "metadata": {},
   "outputs": [
    {
     "data": {
      "image/png": "[encoded data removed]",
      "text/plain": [
       "<Figure size 432x288 with 1 Axes>"
      ]
     },
     "metadata": {
      "needs_background": "light"
     },
     "output_type": "display_data"
    }
   ],
   "source": [
    "plt.scatter(a, b)\n",
    "plt.show()"
   ]
  },
  {
   "cell_type": "code",
   "execution_count": 20,
   "id": "b881991b-78d4-4693-95c6-6a9201b73453",
   "metadata": {},
   "outputs": [
    {
     "data": {
      "text/plain": [
       "0.6000000000000001"
      ]
     },
     "execution_count": 20,
     "metadata": {},
     "output_type": "execute_result"
    }
   ],
   "source": [
    "(0.8*0.45)**0.5"
   ]
  },
  {
   "cell_type": "markdown",
   "id": "25cb120f-a22c-4738-abb4-b454d50d30a8",
   "metadata": {
    "jp-MarkdownHeadingCollapsed": true,
    "tags": []
   },
   "source": [
    "### Standard Error"
   ]
  },
  {
   "cell_type": "code",
   "execution_count": 12,
   "id": "0f2154b3-2b78-413d-993f-7c16dd024299",
   "metadata": {},
   "outputs": [],
   "source": [
    "def see(x, y):\n",
    "    r = ss.pearsonr(x,y)[0]\n",
    "    return np.std(x) * np.sqrt(1 - r*r)"
   ]
  },
  {
   "cell_type": "code",
   "execution_count": 39,
   "id": "006b1f6e-89f4-4253-a4b8-ac4b6b3dea37",
   "metadata": {},
   "outputs": [
    {
     "data": {
      "text/plain": [
       "array([2.6, 3.1, 3.6])"
      ]
     },
     "execution_count": 39,
     "metadata": {},
     "output_type": "execute_result"
    }
   ],
   "source": [
    "np.array([40,50,60])*0.05+0.6"
   ]
  },
  {
   "cell_type": "code",
   "execution_count": 62,
   "id": "17845ba2-8c1c-41f4-a30f-5081d7b84e43",
   "metadata": {},
   "outputs": [
    {
     "data": {
      "text/plain": [
       "0.6363636363636364"
      ]
     },
     "execution_count": 62,
     "metadata": {},
     "output_type": "execute_result"
    }
   ],
   "source": [
    "1 - ((6* np.sum((c-a)**2) ) / (10**3-10))"
   ]
  },
  {
   "cell_type": "code",
   "execution_count": 52,
   "id": "4619956e-c918-4dfc-8b59-b028e04f7697",
   "metadata": {},
   "outputs": [
    {
     "data": {
      "text/plain": [
       "0.6363636363636364"
      ]
     },
     "execution_count": 52,
     "metadata": {},
     "output_type": "execute_result"
    }
   ],
   "source": [
    "1 - 0.36363636363636365"
   ]
  },
  {
   "cell_type": "code",
   "execution_count": 147,
   "id": "7d0c9b6d-e838-4d5c-b6d2-d2f480fc782a",
   "metadata": {},
   "outputs": [
    {
     "data": {
      "text/plain": [
       "(0.5083042452524145, 6.706382143522822e-08)"
      ]
     },
     "execution_count": 147,
     "metadata": {},
     "output_type": "execute_result"
    }
   ],
   "source": [
    "ss.pearsonr(a,b)"
   ]
  },
  {
   "cell_type": "code",
   "execution_count": 71,
   "id": "509f3de1-4816-4518-9764-b7b419445ed2",
   "metadata": {},
   "outputs": [
    {
     "data": {
      "text/plain": [
       "SpearmanrResult(correlation=0.7999999999999999, pvalue=0.10408803866182788)"
      ]
     },
     "execution_count": 71,
     "metadata": {},
     "output_type": "execute_result"
    }
   ],
   "source": [
    "ss.spearmanr(a,b)"
   ]
  },
  {
   "cell_type": "code",
   "execution_count": 75,
   "id": "bc12b31e-98a8-463c-a838-5bee55f8344b",
   "metadata": {},
   "outputs": [
    {
     "data": {
      "text/plain": [
       "1.4142135623730951"
      ]
     },
     "execution_count": 75,
     "metadata": {},
     "output_type": "execute_result"
    }
   ],
   "source": [
    "np.std(a)"
   ]
  },
  {
   "cell_type": "code",
   "execution_count": 82,
   "id": "d5bb39db-a84e-43e3-9d12-cbe2b3950f05",
   "metadata": {},
   "outputs": [
    {
     "data": {
      "text/plain": [
       "0.4984473684210527"
      ]
     },
     "execution_count": 82,
     "metadata": {},
     "output_type": "execute_result"
    }
   ],
   "source": [
    "0.806*1.41/2.28"
   ]
  },
  {
   "cell_type": "code",
   "execution_count": 84,
   "id": "2023c52b-826e-4969-a8fc-a84841dc2015",
   "metadata": {},
   "outputs": [
    {
     "data": {
      "text/plain": [
       "0.5499999999999998"
      ]
     },
     "execution_count": 84,
     "metadata": {},
     "output_type": "execute_result"
    }
   ],
   "source": [
    "3-5*0.49"
   ]
  },
  {
   "cell_type": "code",
   "execution_count": 91,
   "id": "a6bc90e7-47c9-4322-8d93-21994d8d6ae1",
   "metadata": {},
   "outputs": [
    {
     "data": {
      "text/plain": [
       "3"
      ]
     },
     "execution_count": 91,
     "metadata": {},
     "output_type": "execute_result"
    }
   ],
   "source": [
    "mode([1,2,3,1,2,3,1,1,2,3,1,1,2,3,3,3,3])"
   ]
  },
  {
   "cell_type": "code",
   "execution_count": 138,
   "id": "39edd5cc-e462-4ca6-b98f-a46b8ec155b5",
   "metadata": {},
   "outputs": [
    {
     "data": {
      "text/plain": [
       "array([15, 15, 15, 15, 15, 15, 15, 15, 15, 15, 15, 15, 15, 15, 15, 15, 15,\n",
       "       15, 15, 15, 15, 15, 15, 15, 15, 45, 45, 45, 45, 45, 45, 45, 45, 45,\n",
       "       45, 45, 45, 45, 45, 45, 45, 45, 45, 45, 45, 45, 45, 45, 45, 45, 45,\n",
       "       45, 45, 45, 45, 75, 75, 75, 75, 75, 75, 75, 75, 75, 75, 75, 75, 75,\n",
       "       75, 75, 75, 75, 75, 75, 75, 75, 75, 75, 75, 75, 75, 75, 75, 75, 75,\n",
       "       75, 75, 75, 75, 75, 75, 75, 75, 75, 75, 75, 75, 75, 75, 75])"
      ]
     },
     "execution_count": 138,
     "metadata": {},
     "output_type": "execute_result"
    }
   ],
   "source": [
    "a"
   ]
  },
  {
   "cell_type": "code",
   "execution_count": 139,
   "id": "cfab3992-f888-4924-85bc-897b6f4591c4",
   "metadata": {},
   "outputs": [
    {
     "data": {
      "text/plain": [
       "array([25, 25, 25, 25, 25, 55, 55, 55, 55, 55, 55, 55, 55, 55, 55, 55, 55,\n",
       "       55, 55, 55, 55, 55, 55, 55, 55, 55, 55, 55, 55, 55, 55, 55, 55, 55,\n",
       "       55, 55, 55, 55, 55, 55, 55, 55, 55, 55, 55, 55, 55, 55, 55, 55, 55,\n",
       "       55, 55, 55, 55, 55, 55, 55, 55, 55, 55, 55, 55, 55, 55, 55, 55, 55,\n",
       "       55, 55, 55, 55, 55, 55, 55, 55, 55, 55, 55, 55, 55, 55, 55, 55, 55,\n",
       "       85, 85, 85, 85, 85, 85, 85, 85, 85, 85, 85, 85, 85, 85, 85])"
      ]
     },
     "execution_count": 139,
     "metadata": {},
     "output_type": "execute_result"
    }
   ],
   "source": [
    "b"
   ]
  },
  {
   "cell_type": "markdown",
   "id": "38cb15c3-cfa5-45a1-964d-027e86e49d31",
   "metadata": {
    "jp-MarkdownHeadingCollapsed": true,
    "tags": []
   },
   "source": [
    "### Practice sets"
   ]
  },
  {
   "cell_type": "code",
   "execution_count": 55,
   "id": "7b86a3df-1a61-4096-b18a-170809abbd62",
   "metadata": {},
   "outputs": [],
   "source": [
    "a = np.array([11,17,19,14,8,15,20,6,8,12])\n",
    "b = np.array([147,125,160,118,149,128,150,145,115,140])"
   ]
  },
  {
   "cell_type": "code",
   "execution_count": 10,
   "id": "d61cb0ec-49dc-4403-8c2f-384c7592df06",
   "metadata": {},
   "outputs": [],
   "source": [
    "a = np.array([1,2,3,4,5])\n",
    "b = np.array([3,2,11,14,27])"
   ]
  },
  {
   "cell_type": "code",
   "execution_count": 73,
   "id": "c0897083-4a05-4761-838a-35ea8a16967e",
   "metadata": {},
   "outputs": [
    {
     "data": {
      "text/plain": [
       "(5, 5)"
      ]
     },
     "execution_count": 73,
     "metadata": {},
     "output_type": "execute_result"
    }
   ],
   "source": [
    "a.size, b.size"
   ]
  },
  {
   "cell_type": "code",
   "execution_count": 21,
   "id": "cf3464c9-d5e8-4190-8915-0a994bb19069",
   "metadata": {},
   "outputs": [
    {
     "name": "stdout",
     "output_type": "stream",
     "text": [
      "0.9379580992210836\n",
      "0.9379580992210835\n",
      "0.9379580992210843\n",
      "closeness 0.8797653958944279\n"
     ]
    }
   ],
   "source": [
    "## Pearson correlation coefficient\n",
    "\n",
    "m = ss.pearsonr(a,b)[0]\n",
    "print(m)\n",
    "\n",
    "m = np.sum((a-np.mean(a))*(b-np.mean(b))) / (a.size*np.std(a)*np.std(b))\n",
    "print(m)\n",
    "\n",
    "c = (np.std(a)**2 + np.std(b)**2 - np.std(a-b)**2) / (2*np.std(a)*np.std(b))\n",
    "print(c)\n",
    "\n",
    "print('closeness', m*m)"
   ]
  },
  {
   "cell_type": "code",
   "execution_count": 20,
   "id": "8afe43d9-2c25-4a2e-8bd3-7a6d54a0e83e",
   "metadata": {},
   "outputs": [
    {
     "name": "stdout",
     "output_type": "stream",
     "text": [
      "12.0\n",
      "[[  2.5  15. ]\n",
      " [ 15.  102.3]]\n"
     ]
    }
   ],
   "source": [
    "# Covariance\n",
    "\n",
    "n = np.sum((a-np.mean(a))*(b-np.mean(b))) / 5\n",
    "print(n)\n",
    "\n",
    "m = np.cov(a,b)\n",
    "print(m)"
   ]
  },
  {
   "cell_type": "code",
   "execution_count": 13,
   "id": "1fefabe2-8820-4e32-ab3c-0d80e4ee0778",
   "metadata": {},
   "outputs": [
    {
     "name": "stdout",
     "output_type": "stream",
     "text": [
      "0.9379580992210835\n"
     ]
    }
   ],
   "source": [
    "# Correlation\n",
    "\n",
    "m = n / np.sqrt(np.var(a)*np.var(b))\n",
    "print(m)"
   ]
  },
  {
   "cell_type": "code",
   "execution_count": 15,
   "id": "79efc8df-faa7-4177-a70d-7205f9f71af3",
   "metadata": {},
   "outputs": [
    {
     "name": "stdout",
     "output_type": "stream",
     "text": [
      "-6.6 6.0\n"
     ]
    }
   ],
   "source": [
    "a1, b1, c1 = a.size, np.sum(a), np.sum(b)\n",
    "a2, b2, c2 = np.sum(a), np.sum(a**2), np.sum(a*b)\n",
    "\n",
    "m, n = (c1*b2 - c2*b1) / (a1*b2 - a2*b1), (c2*a1 - c1*a2) / (a1*b2 - a2*b1)\n",
    "print(m ,n)\n",
    "\n",
    "b_ = m + n*a"
   ]
  },
  {
   "cell_type": "code",
   "execution_count": 22,
   "id": "6084bbb7-5785-4b60-9d05-be967910bdf8",
   "metadata": {},
   "outputs": [
    {
     "name": "stdout",
     "output_type": "stream",
     "text": [
      "0.8797653958944295\n",
      "0.8797653958944281\n"
     ]
    }
   ],
   "source": [
    "# R squared\n",
    "\n",
    "print(c*c)\n",
    "\n",
    "m = 1 - np.sum((b-b_)**2)/np.sum((b-np.mean(b))**2)\n",
    "print(m)"
   ]
  },
  {
   "cell_type": "code",
   "execution_count": 26,
   "id": "cf867234-d9f3-45f5-bee7-e13bbcb6aa03",
   "metadata": {},
   "outputs": [
    {
     "name": "stdout",
     "output_type": "stream",
     "text": [
      "3.1368774282716245\n"
     ]
    }
   ],
   "source": [
    "# SEE\n",
    "\n",
    "m = np.sum((b-b_)**2) / a.size\n",
    "print(m**0.5)"
   ]
  },
  {
   "cell_type": "code",
   "execution_count": 25,
   "id": "f940b483-8973-492e-a5ac-ae2ff00eff85",
   "metadata": {},
   "outputs": [
    {
     "data": {
      "text/plain": [
       "3.1368774282716076"
      ]
     },
     "execution_count": 25,
     "metadata": {},
     "output_type": "execute_result"
    }
   ],
   "source": [
    "np.std(b)*np.sqrt(1-c*c)"
   ]
  },
  {
   "cell_type": "code",
   "execution_count": null,
   "id": "f8350307-fcd3-462a-83c8-9a0b4924e0d5",
   "metadata": {},
   "outputs": [],
   "source": []
  }
 ],
 "metadata": {
  "kernelspec": {
   "display_name": "Python 3 (ipykernel)",
   "language": "python",
   "name": "python3"
  },
  "language_info": {
   "codemirror_mode": {
    "name": "ipython",
    "version": 3
   },
   "file_extension": ".py",
   "mimetype": "text/x-python",
   "name": "python",
   "nbconvert_exporter": "python",
   "pygments_lexer": "ipython3",
   "version": "3.9.13"
  }
 },
 "nbformat": 4,
 "nbformat_minor": 5
}
