{
 "cells": [
  {
   "cell_type": "markdown",
   "id": "7d708506-55ea-415a-9641-fc0adc1a760c",
   "metadata": {},
   "source": [
    "# Curve Fitting - bs grewal 24"
   ]
  },
  {
   "cell_type": "code",
   "execution_count": 1,
   "id": "65007789-068a-4841-bb19-472041a735b5",
   "metadata": {},
   "outputs": [],
   "source": [
    "import pandas as pd\n",
    "import numpy as np\n",
    "import matplotlib.pyplot as plt\n",
    "import scipy.stats as ss\n",
    "import statistics as st"
   ]
  },
  {
   "cell_type": "code",
   "execution_count": 56,
   "id": "ae779b2f-4b13-4083-a236-0aac385264d3",
   "metadata": {},
   "outputs": [],
   "source": [
    "np.set_printoptions(suppress=False)"
   ]
  },
  {
   "cell_type": "markdown",
   "id": "f391cb7e-7a2f-429f-9127-eef06eac6ecf",
   "metadata": {
    "jp-MarkdownHeadingCollapsed": true,
    "tags": []
   },
   "source": [
    "### Method of Least Square"
   ]
  },
  {
   "cell_type": "code",
   "execution_count": 111,
   "id": "9293e410-1c8a-4cc6-8480-4f97a38e1c93",
   "metadata": {},
   "outputs": [],
   "source": [
    "# x = np.array([0,1,2])\n",
    "x = np.arange(5)\n",
    "y = np.array([1,1.8,1.3,2.5,7.3])"
   ]
  },
  {
   "cell_type": "code",
   "execution_count": 84,
   "id": "355d4622-4cd9-4fbd-ba5d-fbcc2fe5d649",
   "metadata": {},
   "outputs": [],
   "source": [
    "y = np.log10(y)"
   ]
  },
  {
   "cell_type": "code",
   "execution_count": 69,
   "id": "88b55630-1145-4350-b621-8bd1b78f22d0",
   "metadata": {},
   "outputs": [],
   "source": [
    "x = np.power(np.e, x)"
   ]
  },
  {
   "cell_type": "code",
   "execution_count": 85,
   "id": "cd03cd74-c721-43d5-a012-e2caacf31ed8",
   "metadata": {},
   "outputs": [
    {
     "data": {
      "text/plain": [
       "(array([2, 3, 4, 5, 6]),\n",
       " array([2.15836249, 2.23754374, 2.31680875, 2.39585038, 2.47494434]))"
      ]
     },
     "execution_count": 85,
     "metadata": {},
     "output_type": "execute_result"
    }
   ],
   "source": [
    "x, y"
   ]
  },
  {
   "cell_type": "code",
   "execution_count": 114,
   "id": "4502a2cb-e075-4ce2-9ebd-1eaab9fd1798",
   "metadata": {},
   "outputs": [
    {
     "data": {
      "text/plain": [
       "30"
      ]
     },
     "execution_count": 114,
     "metadata": {},
     "output_type": "execute_result"
    }
   ],
   "source": [
    "np.sum(x*x)"
   ]
  },
  {
   "cell_type": "code",
   "execution_count": 35,
   "id": "c8f14fda-2c96-4e2e-b08f-92a9d8bea7d4",
   "metadata": {},
   "outputs": [
    {
     "data": {
      "text/plain": [
       "548.1875"
      ]
     },
     "execution_count": 35,
     "metadata": {},
     "output_type": "execute_result"
    }
   ],
   "source": [
    "np.sum(x**4)"
   ]
  },
  {
   "cell_type": "code",
   "execution_count": 95,
   "id": "0e229464-b5c6-48ea-86b0-f0f38914b695",
   "metadata": {},
   "outputs": [
    {
     "data": {
      "text/plain": [
       "100.02620890357021"
      ]
     },
     "execution_count": 95,
     "metadata": {},
     "output_type": "execute_result"
    }
   ],
   "source": [
    "10**(2.0001138089085906) "
   ]
  },
  {
   "cell_type": "code",
   "execution_count": 31,
   "id": "f7f06960-8cfd-4fd2-b0da-1916b819e6db",
   "metadata": {},
   "outputs": [
    {
     "data": {
      "text/plain": [
       "0.00960267559214069"
      ]
     },
     "execution_count": 31,
     "metadata": {},
     "output_type": "execute_result"
    }
   ],
   "source": [
    "0.004170389021173743/np.log10(np.e)"
   ]
  },
  {
   "cell_type": "code",
   "execution_count": 109,
   "id": "f443e33b-caac-46f2-8a2c-949932651f41",
   "metadata": {},
   "outputs": [
    {
     "name": "stdout",
     "output_type": "stream",
     "text": [
      "1.7 1.26\n"
     ]
    }
   ],
   "source": [
    "# Linear equation least square\n",
    "# a1x + b1y = c1\n",
    "# a2x + b2y = c2\n",
    "\n",
    "a1, b1, c1 = 10,50,80 # x.size, np.sum(x), np.sum(y)\n",
    "a2, b2, c2 = 50,750, 1030 #np.sum(x), np.sum(x**2), np.sum(x*y)\n",
    "\n",
    "a, b = (c1*b2 - c2*b1) / (a1*b2 - a2*b1), (c2*a1 - c1*a2) / (a1*b2 - a2*b1)\n",
    "print(a, b)"
   ]
  },
  {
   "cell_type": "code",
   "execution_count": 182,
   "id": "814d4eea-8b14-4d8a-a567-325d0982187e",
   "metadata": {},
   "outputs": [
    {
     "data": {
      "text/plain": [
       "array([-0.46      ,  1.84285714,  0.44285714])"
      ]
     },
     "execution_count": 182,
     "metadata": {},
     "output_type": "execute_result"
    }
   ],
   "source": [
    "# Quadratic quation least square\n",
    "\n",
    "a = np.array([\n",
    "        [x.size, np.sum(x), np.sum(x**2)],\n",
    "        [np.sum(x), np.sum(x**2), np.sum(x**3)],\n",
    "        [np.sum(x**2), np.sum(x**3), np.sum(x**4)]\n",
    "    ])\n",
    "b = np.array([np.sum(y), np.sum(x*y),np.sum(x*x*y)])\n",
    "\n",
    "np.linalg.solve(a,b)"
   ]
  },
  {
   "cell_type": "code",
   "execution_count": 93,
   "id": "9203abcc-3924-4532-b363-0ce83e3ae798",
   "metadata": {},
   "outputs": [],
   "source": [
    "book = 99.86*1.2**(x)"
   ]
  },
  {
   "cell_type": "code",
   "execution_count": 100,
   "id": "d399f2e4-eff8-4fc4-a8e6-d26672bfea40",
   "metadata": {},
   "outputs": [],
   "source": [
    "my = 100.026*1.199**(x)"
   ]
  },
  {
   "cell_type": "code",
   "execution_count": 97,
   "id": "8993a482-81aa-4645-abaf-1ec0faf3f63a",
   "metadata": {},
   "outputs": [
    {
     "data": {
      "text/plain": [
       "array([144. , 172.8, 207.4, 248.8, 298.5])"
      ]
     },
     "execution_count": 97,
     "metadata": {},
     "output_type": "execute_result"
    }
   ],
   "source": [
    "y"
   ]
  },
  {
   "cell_type": "code",
   "execution_count": 25,
   "id": "e8f21447-15c0-442d-9802-f177bd2518ac",
   "metadata": {},
   "outputs": [
    {
     "data": {
      "text/plain": [
       "array([0.18393168, 0.00960268])"
      ]
     },
     "execution_count": 25,
     "metadata": {},
     "output_type": "execute_result"
    }
   ],
   "source": [
    "# Linear quation least square\n",
    "\n",
    "a = np.array([\n",
    "        [x.size, np.sum(x)],\n",
    "        [np.sum(x), np.sum(x**2)]\n",
    "    ])\n",
    "b = np.array([np.sum(y), np.sum(x*y)])\n",
    "\n",
    "np.linalg.solve(a,b)"
   ]
  },
  {
   "cell_type": "code",
   "execution_count": 101,
   "id": "544385be-db8e-47d9-b633-6e6c889b70b0",
   "metadata": {},
   "outputs": [
    {
     "data": {
      "text/plain": [
       "0.8070581599326697"
      ]
     },
     "execution_count": 101,
     "metadata": {},
     "output_type": "execute_result"
    }
   ],
   "source": [
    "np.sqrt(np.sum((y-my)**2) / y.size)"
   ]
  },
  {
   "cell_type": "code",
   "execution_count": 99,
   "id": "a4686145-e1da-45c1-a94d-d09c273f7fb5",
   "metadata": {},
   "outputs": [
    {
     "data": {
      "text/plain": [
       "0.28653919910301673"
      ]
     },
     "execution_count": 99,
     "metadata": {},
     "output_type": "execute_result"
    }
   ],
   "source": [
    "np.sqrt(np.sum((y-book)**2) / y.size)"
   ]
  },
  {
   "cell_type": "code",
   "execution_count": 45,
   "id": "2091009a-1c99-4b06-a6e3-0a916c4178f6",
   "metadata": {},
   "outputs": [
    {
     "data": {
      "text/plain": [
       "1.1972173631218102"
      ]
     },
     "execution_count": 45,
     "metadata": {},
     "output_type": "execute_result"
    }
   ],
   "source": [
    "np.e**0.18"
   ]
  },
  {
   "cell_type": "markdown",
   "id": "9610a057-8f5f-4a0d-ad3c-a75fad82f762",
   "metadata": {
    "jp-MarkdownHeadingCollapsed": true,
    "tags": []
   },
   "source": [
    "### Method of Group Averages"
   ]
  },
  {
   "cell_type": "code",
   "execution_count": 185,
   "id": "cc640cbf-eb89-4973-b348-a91e44b0c602",
   "metadata": {},
   "outputs": [],
   "source": [
    "x = np.array([5,10,20,30,35,40])\n",
    "y = np.array([10,14,25,40,50,62])\n",
    "\n",
    "# x = np.arange(5, 41, 5)"
   ]
  },
  {
   "cell_type": "code",
   "execution_count": 186,
   "id": "22b71f48-a63c-4613-b903-7832f2cd29ea",
   "metadata": {},
   "outputs": [],
   "source": [
    "x = np.delete(x, 1)\n",
    "y = np.delete(y, 1)\n",
    "\n",
    "m, n = 2.5, 17.8\n",
    "X = x + m\n",
    "Y = (y - n) / (x - m)"
   ]
  },
  {
   "cell_type": "code",
   "execution_count": 179,
   "id": "c4973d5f-ffda-4faf-af08-d572e3a9399d",
   "metadata": {},
   "outputs": [
    {
     "data": {
      "text/plain": [
       "(array([ 5, 10, 20, 30, 35, 40]), array([10, 14, 25, 40, 50, 62]))"
      ]
     },
     "execution_count": 179,
     "metadata": {},
     "output_type": "execute_result"
    }
   ],
   "source": [
    "x, y"
   ]
  },
  {
   "cell_type": "code",
   "execution_count": 152,
   "id": "598dc9a3-e884-4bb3-9f63-004030ac0475",
   "metadata": {},
   "outputs": [
    {
     "data": {
      "text/plain": [
       "94.88"
      ]
     },
     "execution_count": 152,
     "metadata": {},
     "output_type": "execute_result"
    }
   ],
   "source": [
    "np.mean([81.1,  87.2,  95.5, 102.2,\n",
    "        108.4])"
   ]
  },
  {
   "cell_type": "code",
   "execution_count": 182,
   "id": "f4d94a3e-87c0-464b-84a9-6aff9774ea7e",
   "metadata": {},
   "outputs": [
    {
     "data": {
      "text/plain": [
       "3.9093456166666667"
      ]
     },
     "execution_count": 182,
     "metadata": {},
     "output_type": "execute_result"
    }
   ],
   "source": [
    "np.mean([3.68887945, 3.91202301,\n",
    "       4.12713439])"
   ]
  },
  {
   "cell_type": "code",
   "execution_count": 183,
   "id": "90d95521-722e-435d-ab10-42574d363889",
   "metadata": {},
   "outputs": [
    {
     "name": "stdout",
     "output_type": "stream",
     "text": [
      "2.130581196581197 0.0508119658119658\n"
     ]
    }
   ],
   "source": [
    "# Quadratic equation group average\n",
    "# y1_ = a1 + b1x1_\n",
    "# y2_ = a2 + b2x2_\n",
    "\n",
    "a1, b1, c1 = 1, 11.6, 2.720\n",
    "a2, b2, c2 = 1, 35, 3.909\n",
    "\n",
    "a, b = (c1*b2 - c2*b1) / (a1*b2 - a2*b1), (c2*a1 - c1*a2) / (a1*b2 - a2*b1)\n",
    "print(a, b)"
   ]
  },
  {
   "cell_type": "code",
   "execution_count": 172,
   "id": "a9169396-3043-4a48-b206-e89c63b5c4e6",
   "metadata": {},
   "outputs": [
    {
     "data": {
      "text/plain": [
       "15.447359154929577"
      ]
     },
     "execution_count": 172,
     "metadata": {},
     "output_type": "execute_result"
    }
   ],
   "source": [
    "n - a*m - b*m*m"
   ]
  },
  {
   "cell_type": "code",
   "execution_count": 133,
   "id": "d09fdea4-c3dd-4e0c-8616-3b827a944455",
   "metadata": {},
   "outputs": [],
   "source": [
    "x = np.log10(x)"
   ]
  },
  {
   "cell_type": "code",
   "execution_count": 180,
   "id": "4d20e9f8-873c-4e56-a045-c097b020be43",
   "metadata": {},
   "outputs": [
    {
     "data": {
      "text/plain": [
       "array([2.30258509, 2.63905733, 3.21887582, 3.68887945, 3.91202301,\n",
       "       4.12713439])"
      ]
     },
     "execution_count": 180,
     "metadata": {},
     "output_type": "execute_result"
    }
   ],
   "source": [
    "np.log(y)"
   ]
  },
  {
   "cell_type": "code",
   "execution_count": 135,
   "id": "78641484-0a95-47f9-b759-12a7ef953a19",
   "metadata": {},
   "outputs": [
    {
     "data": {
      "text/plain": [
       "(array([1.30103   , 1.60205999, 1.77815125, 1.90308999, 2.        ]),\n",
       " array([0.12483015, 0.72697158, 1.01422643, 1.32905193, 1.509646  ]))"
      ]
     },
     "execution_count": 135,
     "metadata": {},
     "output_type": "execute_result"
    }
   ],
   "source": [
    "x, y"
   ]
  },
  {
   "cell_type": "code",
   "execution_count": 142,
   "id": "0e32548e-cd1a-4f71-b5a3-b5a789da4052",
   "metadata": {},
   "outputs": [
    {
     "data": {
      "text/plain": [
       "0.003853976754995886"
      ]
     },
     "execution_count": 142,
     "metadata": {},
     "output_type": "execute_result"
    }
   ],
   "source": [
    "10**(-2.414090909090909)"
   ]
  },
  {
   "cell_type": "code",
   "execution_count": 188,
   "id": "0c94f8b4-46dc-4627-8952-cf59200484fd",
   "metadata": {},
   "outputs": [
    {
     "data": {
      "text/plain": [
       "30.89720953996037"
      ]
     },
     "execution_count": 188,
     "metadata": {},
     "output_type": "execute_result"
    }
   ],
   "source": [
    "my = 1.459*np.e**(0.062*x)\n",
    "\n",
    "np.sqrt(np.sum((y-my)**2) / y.size)"
   ]
  },
  {
   "cell_type": "code",
   "execution_count": 184,
   "id": "32134863-549e-4121-8e12-c9256dc38efd",
   "metadata": {},
   "outputs": [
    {
     "data": {
      "text/plain": [
       "8.419758924764226"
      ]
     },
     "execution_count": 184,
     "metadata": {},
     "output_type": "execute_result"
    }
   ],
   "source": [
    "np.e**(2.130581196581197 )"
   ]
  },
  {
   "cell_type": "markdown",
   "id": "dd42db82-6c72-4a6e-bd26-2dcda663ee90",
   "metadata": {
    "jp-MarkdownHeadingCollapsed": true,
    "tags": []
   },
   "source": [
    "### Method of Moments"
   ]
  },
  {
   "cell_type": "code",
   "execution_count": 2,
   "id": "e5c3260c-3e73-4d69-b8c3-a3061d965e8d",
   "metadata": {},
   "outputs": [],
   "source": [
    "from scipy import integrate"
   ]
  },
  {
   "cell_type": "code",
   "execution_count": 92,
   "id": "db6dc9e3-a356-4252-a4cf-534b81a1befb",
   "metadata": {},
   "outputs": [],
   "source": [
    "x = np.arange(1,5)\n",
    "y = np.array([0.30,0.64,1.32,5.40])\n",
    "\n",
    "h = 1"
   ]
  },
  {
   "cell_type": "code",
   "execution_count": 194,
   "id": "65654c9a-433d-485f-9ab5-79d78544c315",
   "metadata": {},
   "outputs": [
    {
     "data": {
      "text/plain": [
       "14.5"
      ]
     },
     "execution_count": 194,
     "metadata": {},
     "output_type": "execute_result"
    }
   ],
   "source": [
    "ss.moment(y, 2)"
   ]
  },
  {
   "cell_type": "code",
   "execution_count": 193,
   "id": "f41476a8-e557-4f4b-a26c-6c20efbb01b9",
   "metadata": {},
   "outputs": [
    {
     "data": {
      "text/plain": [
       "14.5"
      ]
     },
     "execution_count": 193,
     "metadata": {},
     "output_type": "execute_result"
    }
   ],
   "source": [
    "np.var(y)"
   ]
  },
  {
   "cell_type": "code",
   "execution_count": 93,
   "id": "62549d50-1bf1-41d0-bc1c-1141440123f8",
   "metadata": {},
   "outputs": [
    {
     "data": {
      "text/plain": [
       "(7.66, 27.14, 101.14)"
      ]
     },
     "execution_count": 93,
     "metadata": {},
     "output_type": "execute_result"
    }
   ],
   "source": [
    "# Observed Moments\n",
    "\n",
    "for i in range(3):\n",
    "    globals()[f'em{i+1}'] = (1 * np.sum(y*x**i))\n",
    "\n",
    "em1, em2, em3"
   ]
  },
  {
   "cell_type": "code",
   "execution_count": 94,
   "id": "c4cf7c00-3d7c-4017-b020-8d3e69a64b42",
   "metadata": {},
   "outputs": [
    {
     "data": {
      "text/plain": [
       "(4.0, 10.0, 30.333333333333332, 102.5, 369.05)"
      ]
     },
     "execution_count": 94,
     "metadata": {},
     "output_type": "execute_result"
    }
   ],
   "source": [
    "# Calculated moments\n",
    "\n",
    "for p in range(1,6):\n",
    "    globals()[f'mu{p}'] = ((a**p - b**p)/p)\n",
    "\n",
    "mu1, mu2, mu3, mu4, mu5"
   ]
  },
  {
   "cell_type": "code",
   "execution_count": 95,
   "id": "de84ade5-fe3f-45e6-8aa0-075756d8e1a8",
   "metadata": {},
   "outputs": [
    {
     "name": "stdout",
     "output_type": "stream",
     "text": [
      "4.5 0.5\n"
     ]
    }
   ],
   "source": [
    "a, b = x[-1] + h/2, x[0] - h/2\n",
    "print(a,b)"
   ]
  },
  {
   "cell_type": "code",
   "execution_count": 79,
   "id": "1857e325-9a57-4ca7-92cf-ffe75a52933d",
   "metadata": {},
   "outputs": [
    {
     "name": "stdout",
     "output_type": "stream",
     "text": [
      "0.5919947679790719 0.2616010464041855\n"
     ]
    }
   ],
   "source": [
    "# Linear equation method of moment\n",
    "# a1x + b1y = c1\n",
    "# a2x + b2y = c2\n",
    "a1, b1, c1 = mu1, mu2, em1\n",
    "a2, b2, c2 = mu2, mu3, em2\n",
    "\n",
    "a, b = (c1*b2 - c2*b1) / (a1*b2 - a2*b1), (c2*a1 - c1*a2) / (a1*b2 - a2*b1)\n",
    "print(a, b)"
   ]
  },
  {
   "cell_type": "code",
   "execution_count": 96,
   "id": "8567d37c-8a89-4f46-a640-d2740a310462",
   "metadata": {},
   "outputs": [
    {
     "data": {
      "text/plain": [
       "array([ 0.85032715, -1.22794922,  0.54521484])"
      ]
     },
     "execution_count": 96,
     "metadata": {},
     "output_type": "execute_result"
    }
   ],
   "source": [
    "# Quadratic quation method of moment\n",
    "\n",
    "m = np.array([\n",
    "        [mu1, mu2, mu3],\n",
    "        [mu2, mu3, mu4],\n",
    "        [mu3, mu4, mu5]\n",
    "    ])\n",
    "n = np.array([em1, em2, em3])\n",
    "\n",
    "np.linalg.solve(m,n)"
   ]
  },
  {
   "cell_type": "code",
   "execution_count": 99,
   "id": "ed970c0e-b192-424b-8d6c-f4c80bef27b6",
   "metadata": {},
   "outputs": [
    {
     "data": {
      "text/plain": [
       "1.1996972534768928"
      ]
     },
     "execution_count": 99,
     "metadata": {},
     "output_type": "execute_result"
    }
   ],
   "source": [
    "my = 0.485+0.397*x+0.124*x*x\n",
    "\n",
    "np.sqrt(np.sum((y-my)**2) / y.size)"
   ]
  },
  {
   "cell_type": "code",
   "execution_count": 77,
   "id": "1ae3ad6a-aa82-4f76-85fb-f2ab8f3aa869",
   "metadata": {},
   "outputs": [
    {
     "data": {
      "text/plain": [
       "116.8"
      ]
     },
     "execution_count": 77,
     "metadata": {},
     "output_type": "execute_result"
    }
   ],
   "source": [
    "np.sum(x*y)"
   ]
  },
  {
   "cell_type": "code",
   "execution_count": 55,
   "id": "47ee1094-fc8c-4e30-89f5-788bf0c46dca",
   "metadata": {},
   "outputs": [
    {
     "data": {
      "text/plain": [
       "(-10.0, 1.1102230246251565e-13)"
      ]
     },
     "execution_count": 55,
     "metadata": {},
     "output_type": "execute_result"
    }
   ],
   "source": [
    "def function(x,a,b):\n",
    "    return a*x + b\n",
    "\n",
    "integrate.quad(func=lambda x: x, a=4.5, b=0.5)"
   ]
  },
  {
   "cell_type": "code",
   "execution_count": 105,
   "id": "f8f8635b-2631-43ff-af61-7c135a70d9f7",
   "metadata": {},
   "outputs": [
    {
     "name": "stdout",
     "output_type": "stream",
     "text": [
      "0.5919999999999999 0.2616000000000001\n",
      "0.3419999999999978 0.4116000000000013 -0.01500000000000013\n",
      "1.4567650737164128\n"
     ]
    }
   ],
   "source": [
    "# Final method\n",
    "\n",
    "x = np.arange(1,10,2)\n",
    "y = np.array([1.5,2.8,4,4.7,6])\n",
    "h = 2\n",
    "\n",
    "a, b = x[-1] + h/2, x[0] - h/2\n",
    "\n",
    "# Observed Moments\n",
    "for i in range(3):\n",
    "    globals()[f'em{i+1}'] = (1 * np.sum(y*x**i))\n",
    "\n",
    "# Calculated moments\n",
    "for p in range(1,6):\n",
    "    globals()[f'mu{p}'] = ((a**p - b**p)/p)\n",
    "\n",
    "# Linear equation method of moment\n",
    "a1, b1, c1 = mu1, mu2, em1\n",
    "a2, b2, c2 = mu2, mu3, em2\n",
    "\n",
    "a, b = (c1*b2 - c2*b1) / (a1*b2 - a2*b1), (c2*a1 - c1*a2) / (a1*b2 - a2*b1)\n",
    "print(a, b)\n",
    "\n",
    "# Quadratic quation method of moment\n",
    "m = np.array([\n",
    "        [mu1, mu2, mu3],\n",
    "        [mu2, mu3, mu4],\n",
    "        [mu3, mu4, mu5]\n",
    "    ])\n",
    "n = np.array([em1, em2, em3])\n",
    "\n",
    "a, b, c = np.linalg.solve(m,n)\n",
    "print(a,b,c)\n",
    "\n",
    "# SEE\n",
    "my = a+b*x #+c*x*x\n",
    "print(np.sqrt(np.sum((y-my)**2) / y.size))"
   ]
  },
  {
   "cell_type": "code",
   "execution_count": null,
   "id": "49df9528-da54-4517-b971-e95cfbc68ea6",
   "metadata": {},
   "outputs": [],
   "source": []
  }
 ],
 "metadata": {
  "kernelspec": {
   "display_name": "Python 3 (ipykernel)",
   "language": "python",
   "name": "python3"
  },
  "language_info": {
   "codemirror_mode": {
    "name": "ipython",
    "version": 3
   },
   "file_extension": ".py",
   "mimetype": "text/x-python",
   "name": "python",
   "nbconvert_exporter": "python",
   "pygments_lexer": "ipython3",
   "version": "3.9.13"
  },
  "toc-autonumbering": false,
  "toc-showcode": false,
  "toc-showmarkdowntxt": false
 },
 "nbformat": 4,
 "nbformat_minor": 5
}
