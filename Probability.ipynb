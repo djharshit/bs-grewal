{
 "cells": [
  {
   "cell_type": "markdown",
   "id": "7208e35e-964a-4bc3-8cb3-4f6583bde8e0",
   "metadata": {},
   "source": [
    "# Probablility - bs grewal 26"
   ]
  },
  {
   "cell_type": "code",
   "execution_count": 1,
   "id": "bae5132d-e408-4890-b1c6-d9dc00b17fe5",
   "metadata": {},
   "outputs": [],
   "source": [
    "import pandas as pd\n",
    "import numpy as np\n",
    "import matplotlib.pyplot as plt\n",
    "import scipy.stats as ss\n",
    "import statistics as st\n",
    "import math"
   ]
  },
  {
   "cell_type": "code",
   "execution_count": 2,
   "id": "fa29bca9-0451-4527-8319-0b4e524e9d0c",
   "metadata": {},
   "outputs": [],
   "source": [
    "def perm(n, r):\n",
    "    return math.factorial(n) / math.factorial(n-r)"
   ]
  },
  {
   "cell_type": "code",
   "execution_count": 3,
   "id": "0262b279-06db-49c4-9b04-dfccda535106",
   "metadata": {},
   "outputs": [],
   "source": [
    "def comb(n, r):\n",
    "    return math.factorial(n) / (math.factorial(n-r) * math.factorial(r))"
   ]
  },
  {
   "cell_type": "code",
   "execution_count": 35,
   "id": "7cdfc523-c0f1-42e6-b564-f5ad45592e91",
   "metadata": {},
   "outputs": [
    {
     "data": {
      "text/plain": [
       "56.0"
      ]
     },
     "execution_count": 35,
     "metadata": {},
     "output_type": "execute_result"
    }
   ],
   "source": [
    "comb(8,3) #+comb(6,2)"
   ]
  },
  {
   "cell_type": "code",
   "execution_count": 26,
   "id": "42d25ddf-578d-4d1f-b975-fe0496e23b00",
   "metadata": {
    "jp-MarkdownHeadingCollapsed": true,
    "tags": []
   },
   "outputs": [
    {
     "data": {
      "text/plain": [
       "1725126"
      ]
     },
     "execution_count": 26,
     "metadata": {},
     "output_type": "execute_result"
    }
   ],
   "source": [
    "26**5 - 26*25**4"
   ]
  },
  {
   "cell_type": "code",
   "execution_count": null,
   "id": "920446e7-4dc8-41ec-abb2-9b838af4cd66",
   "metadata": {},
   "outputs": [],
   "source": []
  }
 ],
 "metadata": {
  "kernelspec": {
   "display_name": "Python 3 (ipykernel)",
   "language": "python",
   "name": "python3"
  },
  "language_info": {
   "codemirror_mode": {
    "name": "ipython",
    "version": 3
   },
   "file_extension": ".py",
   "mimetype": "text/x-python",
   "name": "python",
   "nbconvert_exporter": "python",
   "pygments_lexer": "ipython3",
   "version": "3.9.13"
  }
 },
 "nbformat": 4,
 "nbformat_minor": 5
}
